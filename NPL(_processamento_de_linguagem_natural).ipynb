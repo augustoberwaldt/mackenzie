{
  "nbformat": 4,
  "nbformat_minor": 0,
  "metadata": {
    "colab": {
      "name": "NPL( processamento de linguagem natural).ipynb",
      "provenance": [],
      "authorship_tag": "ABX9TyMokDJZP4u/93efE846vFCU",
      "include_colab_link": true
    },
    "kernelspec": {
      "name": "python3",
      "display_name": "Python 3"
    },
    "language_info": {
      "name": "python"
    }
  },
  "cells": [
    {
      "cell_type": "markdown",
      "metadata": {
        "id": "view-in-github",
        "colab_type": "text"
      },
      "source": [
        "<a href=\"https://colab.research.google.com/github/augustoberwaldt/mackenzie/blob/main/NPL(_processamento_de_linguagem_natural).ipynb\" target=\"_parent\"><img src=\"https://colab.research.google.com/assets/colab-badge.svg\" alt=\"Open In Colab\"/></a>"
      ]
    },
    {
      "cell_type": "markdown",
      "source": [
        "Chegou a hora de você mostrar o que você aprendeu. Nas últimas três trilhas, discutimos algumas coisas de processamento de linguagem natural.\n",
        "\n",
        "Aprendemos a extrair palavras-chave de anúncios classificados, identificar padrões em autoria de textos e, a partir do uso de palavras em alguns textos, classificá-las quanto ao sentimento positivo ou negativo.\n",
        "\n",
        "Escolha uma corpora de documentos correlatos e extraia as suas principais palavras e apresente um histograma.\n",
        "\n",
        "Documentos correlatos podem ser diversos artigos de um mesmo autor, diversas matérias jornalísticas sobre um mesmo tema (futebol, política, etc.), review de um mesmo grupo de produto ou serviços (notas de cinema, restaurante, etc.).\n",
        "\n",
        "Para os alunos que não desejarem criar umweb cralwer para buscar os dados poderão buscar alguma fonte confiável na internet ou utilizar a lista de artigos de diversos blogueiros disponibilizado pelo professor no GitHub.\n",
        "\n",
        "Por favor enviar:\n",
        "\n",
        "Uma página no Word descrevendo suscintamente o projeto escolhido e os resultados obtidos.\n",
        "\n",
        "Para o caso de usar uma fonte externa detalhar a origem da fonte e enviar a base de dados usada no projeto.\n",
        "\n",
        "Para o caso de construir um web crawler próprio, enviar também a base de dados adquirida no projeto.\n",
        "\n",
        "Para o caso de usar a base de dados disponibilizada pelo professor, explicar qual caso escolhido e reenviar a base de dados.\n",
        "\n",
        "O programa em python (ou caderno do Jupyter) com o código com comentários."
      ],
      "metadata": {
        "id": "6h_4CXnI1SRf"
      }
    },
    {
      "cell_type": "markdown",
      "source": [
        ""
      ],
      "metadata": {
        "id": "JbyriNW11kgf"
      }
    },
    {
      "cell_type": "code",
      "execution_count": null,
      "metadata": {
        "id": "g498cznC1J7j"
      },
      "outputs": [],
      "source": [
        ""
      ]
    }
  ]
}