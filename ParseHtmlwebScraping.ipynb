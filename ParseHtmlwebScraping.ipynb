{
  "nbformat": 4,
  "nbformat_minor": 0,
  "metadata": {
    "colab": {
      "name": "ParseHtmlwebScraping.ipynb",
      "provenance": [],
      "authorship_tag": "ABX9TyP38mXqbxRWU2QdPMzU8x6x",
      "include_colab_link": true
    },
    "kernelspec": {
      "name": "python3",
      "display_name": "Python 3"
    },
    "language_info": {
      "name": "python"
    }
  },
  "cells": [
    {
      "cell_type": "markdown",
      "metadata": {
        "id": "view-in-github",
        "colab_type": "text"
      },
      "source": [
        "<a href=\"https://colab.research.google.com/github/augustoberwaldt/mackenzie/blob/main/ParseHtmlwebScraping.ipynb\" target=\"_parent\"><img src=\"https://colab.research.google.com/assets/colab-badge.svg\" alt=\"Open In Colab\"/></a>"
      ]
    },
    {
      "cell_type": "code",
      "metadata": {
        "id": "r-9R9WUDQ5Mb"
      },
      "source": [
        "from bs4 import BeautifulSoup # importando  BeautifulSoup, vesao BeautifulSoup4\n",
        "\n",
        "\n",
        "\n",
        "\n",
        "\n"
      ],
      "execution_count": 1,
      "outputs": []
    }
  ]
}