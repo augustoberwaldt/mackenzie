{
  "nbformat": 4,
  "nbformat_minor": 0,
  "metadata": {
    "colab": {
      "name": "tarefa4trilha4.ipynb",
      "provenance": [],
      "authorship_tag": "ABX9TyPSCyQxjLjkmh0Y/XZ4KN76",
      "include_colab_link": true
    },
    "kernelspec": {
      "name": "python3",
      "display_name": "Python 3"
    },
    "language_info": {
      "name": "python"
    }
  },
  "cells": [
    {
      "cell_type": "markdown",
      "metadata": {
        "id": "view-in-github",
        "colab_type": "text"
      },
      "source": [
        "<a href=\"https://colab.research.google.com/github/augustoberwaldt/mackenzie/blob/main/tarefa4trilha4.ipynb\" target=\"_parent\"><img src=\"https://colab.research.google.com/assets/colab-badge.svg\" alt=\"Open In Colab\"/></a>"
      ]
    },
    {
      "cell_type": "markdown",
      "metadata": {
        "id": "QmTDlhbWRS6q"
      },
      "source": [
        "Aqui você vai empregar os conhecimentos aprendidos de Python para efetuar sua própria Análise de Dados. Empregue bases de dados extraídas de um ou ambos os sites abaixo:  \n",
        "\n",
        "a. https://wid.world/\n",
        "\n",
        "b. https://www.gapminder.org/\n",
        "\n",
        "O emprego de uma base formada por dados de ambos os sites é bastante enriquecedor mas não é obrigatório. Você pode empregar uma ou mais bases de um único site e deixar para estudar mais adiante merges e joins de tabelas com R. \n",
        "\n",
        "Faça uma Análise Exploratória dos Dados (EDA) com dados de seu interesse, empregando o Python e o que você aprendeu até aqui. Os sites apresentam diversos dados sobre as diferenças de desenvolvimento dos países e a desigualdade. Foque em perguntas que são do seu interesse sobre os dados.  \n",
        "\n",
        "Na sua análise você deve responder ao menos quatro perguntas relevantes sobre os dados, incluir na sua análise seleções e visualizações dos dados e um texto de conclusão a cada pergunta.  \n",
        "\n",
        "Peça ao professor modelos de código para sua implementação. \n",
        "\n",
        "Seu código deve ser minimamente claro e organizado. Não são necessários comentários detalhados, mas deixe claro no seu código cada parte (atividade), cada fase realizada e a resposta final com sua conclusão.  \n",
        "\n",
        " \n",
        "\n",
        "Entrega:  \n",
        "\n",
        ".pdf de print do seu notebook Python. \n",
        "\n",
        "Compartilhe o endereço do seu notebook Python (Google Drive ou GitHub) 100% executável para abertura no Google Colab.  \n",
        "\n",
        "Não deixe de incluir o seu texto uma introdução justificando a escolha da análise e ao final suas conclusões. "
      ]
    },
    {
      "cell_type": "code",
      "metadata": {
        "id": "NCTybMdlRXnN"
      },
      "source": [
        "import numpy as np\n",
        "import pandas as pd\n",
        "import matplotlib.pyplot as plt\n",
        "%matplotlib inline\n",
        "import seaborn as sns"
      ],
      "execution_count": 1,
      "outputs": []
    },
    {
      "cell_type": "markdown",
      "metadata": {
        "id": "yz0N1uplnAnd"
      },
      "source": [
        "dataset usado https://brasil.io/dataset/covid19/files/, obito_cartorio.csv, porem serm dataset com dados recentes e facil de trabalhar."
      ]
    },
    {
      "cell_type": "code",
      "metadata": {
        "colab": {
          "base_uri": "https://localhost:8080/",
          "height": 313
        },
        "id": "flOJQZK_nD7N",
        "outputId": "84b44d50-36a4-4aaf-a0f2-f9cdf36ce97f"
      },
      "source": [
        "obito_cartorio = pd.read_csv(\"/var/obito_cartorio.csv\")\n",
        "obito_cartorio.head()"
      ],
      "execution_count": 18,
      "outputs": [
        {
          "output_type": "execute_result",
          "data": {
            "text/html": [
              "<div>\n",
              "<style scoped>\n",
              "    .dataframe tbody tr th:only-of-type {\n",
              "        vertical-align: middle;\n",
              "    }\n",
              "\n",
              "    .dataframe tbody tr th {\n",
              "        vertical-align: top;\n",
              "    }\n",
              "\n",
              "    .dataframe thead th {\n",
              "        text-align: right;\n",
              "    }\n",
              "</style>\n",
              "<table border=\"1\" class=\"dataframe\">\n",
              "  <thead>\n",
              "    <tr style=\"text-align: right;\">\n",
              "      <th></th>\n",
              "      <th>date</th>\n",
              "      <th>state</th>\n",
              "      <th>epidemiological_week_2019</th>\n",
              "      <th>epidemiological_week_2020</th>\n",
              "      <th>deaths_indeterminate_2019</th>\n",
              "      <th>deaths_respiratory_failure_2019</th>\n",
              "      <th>deaths_others_2019</th>\n",
              "      <th>deaths_pneumonia_2019</th>\n",
              "      <th>deaths_septicemia_2019</th>\n",
              "      <th>deaths_sars_2019</th>\n",
              "      <th>deaths_covid19</th>\n",
              "      <th>deaths_indeterminate_2020</th>\n",
              "      <th>deaths_respiratory_failure_2020</th>\n",
              "      <th>deaths_others_2020</th>\n",
              "      <th>deaths_pneumonia_2020</th>\n",
              "      <th>deaths_septicemia_2020</th>\n",
              "      <th>deaths_sars_2020</th>\n",
              "      <th>deaths_total_2019</th>\n",
              "      <th>deaths_total_2020</th>\n",
              "      <th>new_deaths_indeterminate_2019</th>\n",
              "      <th>new_deaths_respiratory_failure_2019</th>\n",
              "      <th>new_deaths_others_2019</th>\n",
              "      <th>new_deaths_pneumonia_2019</th>\n",
              "      <th>new_deaths_septicemia_2019</th>\n",
              "      <th>new_deaths_sars_2019</th>\n",
              "      <th>new_deaths_covid19</th>\n",
              "      <th>new_deaths_indeterminate_2020</th>\n",
              "      <th>new_deaths_respiratory_failure_2020</th>\n",
              "      <th>new_deaths_others_2020</th>\n",
              "      <th>new_deaths_pneumonia_2020</th>\n",
              "      <th>new_deaths_septicemia_2020</th>\n",
              "      <th>new_deaths_sars_2020</th>\n",
              "      <th>new_deaths_total_2019</th>\n",
              "      <th>new_deaths_total_2020</th>\n",
              "    </tr>\n",
              "  </thead>\n",
              "  <tbody>\n",
              "    <tr>\n",
              "      <th>0</th>\n",
              "      <td>2020-01-01</td>\n",
              "      <td>AC</td>\n",
              "      <td>1</td>\n",
              "      <td>1</td>\n",
              "      <td>0</td>\n",
              "      <td>2</td>\n",
              "      <td>4</td>\n",
              "      <td>3</td>\n",
              "      <td>1</td>\n",
              "      <td>0</td>\n",
              "      <td>0</td>\n",
              "      <td>1</td>\n",
              "      <td>1</td>\n",
              "      <td>8</td>\n",
              "      <td>2</td>\n",
              "      <td>2</td>\n",
              "      <td>0</td>\n",
              "      <td>10</td>\n",
              "      <td>14</td>\n",
              "      <td>NaN</td>\n",
              "      <td>2.0</td>\n",
              "      <td>4.0</td>\n",
              "      <td>3.0</td>\n",
              "      <td>1.0</td>\n",
              "      <td>NaN</td>\n",
              "      <td>NaN</td>\n",
              "      <td>1.0</td>\n",
              "      <td>1.0</td>\n",
              "      <td>8.0</td>\n",
              "      <td>2.0</td>\n",
              "      <td>2.0</td>\n",
              "      <td>NaN</td>\n",
              "      <td>10</td>\n",
              "      <td>14</td>\n",
              "    </tr>\n",
              "    <tr>\n",
              "      <th>1</th>\n",
              "      <td>2020-01-02</td>\n",
              "      <td>AC</td>\n",
              "      <td>1</td>\n",
              "      <td>1</td>\n",
              "      <td>0</td>\n",
              "      <td>2</td>\n",
              "      <td>10</td>\n",
              "      <td>3</td>\n",
              "      <td>2</td>\n",
              "      <td>0</td>\n",
              "      <td>0</td>\n",
              "      <td>1</td>\n",
              "      <td>1</td>\n",
              "      <td>14</td>\n",
              "      <td>4</td>\n",
              "      <td>4</td>\n",
              "      <td>0</td>\n",
              "      <td>17</td>\n",
              "      <td>24</td>\n",
              "      <td>NaN</td>\n",
              "      <td>NaN</td>\n",
              "      <td>6.0</td>\n",
              "      <td>NaN</td>\n",
              "      <td>1.0</td>\n",
              "      <td>NaN</td>\n",
              "      <td>NaN</td>\n",
              "      <td>NaN</td>\n",
              "      <td>NaN</td>\n",
              "      <td>6.0</td>\n",
              "      <td>2.0</td>\n",
              "      <td>2.0</td>\n",
              "      <td>NaN</td>\n",
              "      <td>7</td>\n",
              "      <td>10</td>\n",
              "    </tr>\n",
              "    <tr>\n",
              "      <th>2</th>\n",
              "      <td>2020-01-03</td>\n",
              "      <td>AC</td>\n",
              "      <td>1</td>\n",
              "      <td>1</td>\n",
              "      <td>0</td>\n",
              "      <td>2</td>\n",
              "      <td>16</td>\n",
              "      <td>3</td>\n",
              "      <td>4</td>\n",
              "      <td>0</td>\n",
              "      <td>0</td>\n",
              "      <td>1</td>\n",
              "      <td>1</td>\n",
              "      <td>22</td>\n",
              "      <td>7</td>\n",
              "      <td>6</td>\n",
              "      <td>0</td>\n",
              "      <td>25</td>\n",
              "      <td>37</td>\n",
              "      <td>NaN</td>\n",
              "      <td>NaN</td>\n",
              "      <td>6.0</td>\n",
              "      <td>NaN</td>\n",
              "      <td>2.0</td>\n",
              "      <td>NaN</td>\n",
              "      <td>NaN</td>\n",
              "      <td>NaN</td>\n",
              "      <td>NaN</td>\n",
              "      <td>8.0</td>\n",
              "      <td>3.0</td>\n",
              "      <td>2.0</td>\n",
              "      <td>NaN</td>\n",
              "      <td>8</td>\n",
              "      <td>13</td>\n",
              "    </tr>\n",
              "    <tr>\n",
              "      <th>3</th>\n",
              "      <td>2020-01-04</td>\n",
              "      <td>AC</td>\n",
              "      <td>1</td>\n",
              "      <td>1</td>\n",
              "      <td>0</td>\n",
              "      <td>2</td>\n",
              "      <td>18</td>\n",
              "      <td>6</td>\n",
              "      <td>5</td>\n",
              "      <td>0</td>\n",
              "      <td>0</td>\n",
              "      <td>1</td>\n",
              "      <td>2</td>\n",
              "      <td>26</td>\n",
              "      <td>7</td>\n",
              "      <td>7</td>\n",
              "      <td>0</td>\n",
              "      <td>31</td>\n",
              "      <td>43</td>\n",
              "      <td>NaN</td>\n",
              "      <td>NaN</td>\n",
              "      <td>2.0</td>\n",
              "      <td>3.0</td>\n",
              "      <td>1.0</td>\n",
              "      <td>NaN</td>\n",
              "      <td>NaN</td>\n",
              "      <td>NaN</td>\n",
              "      <td>1.0</td>\n",
              "      <td>4.0</td>\n",
              "      <td>NaN</td>\n",
              "      <td>1.0</td>\n",
              "      <td>NaN</td>\n",
              "      <td>6</td>\n",
              "      <td>6</td>\n",
              "    </tr>\n",
              "    <tr>\n",
              "      <th>4</th>\n",
              "      <td>2020-01-05</td>\n",
              "      <td>AC</td>\n",
              "      <td>1</td>\n",
              "      <td>2</td>\n",
              "      <td>0</td>\n",
              "      <td>2</td>\n",
              "      <td>24</td>\n",
              "      <td>7</td>\n",
              "      <td>5</td>\n",
              "      <td>0</td>\n",
              "      <td>0</td>\n",
              "      <td>1</td>\n",
              "      <td>3</td>\n",
              "      <td>30</td>\n",
              "      <td>11</td>\n",
              "      <td>7</td>\n",
              "      <td>0</td>\n",
              "      <td>38</td>\n",
              "      <td>52</td>\n",
              "      <td>NaN</td>\n",
              "      <td>NaN</td>\n",
              "      <td>6.0</td>\n",
              "      <td>1.0</td>\n",
              "      <td>NaN</td>\n",
              "      <td>NaN</td>\n",
              "      <td>NaN</td>\n",
              "      <td>NaN</td>\n",
              "      <td>1.0</td>\n",
              "      <td>4.0</td>\n",
              "      <td>4.0</td>\n",
              "      <td>NaN</td>\n",
              "      <td>NaN</td>\n",
              "      <td>7</td>\n",
              "      <td>9</td>\n",
              "    </tr>\n",
              "  </tbody>\n",
              "</table>\n",
              "</div>"
            ],
            "text/plain": [
              "         date state  ...  new_deaths_total_2019  new_deaths_total_2020\n",
              "0  2020-01-01    AC  ...                     10                     14\n",
              "1  2020-01-02    AC  ...                      7                     10\n",
              "2  2020-01-03    AC  ...                      8                     13\n",
              "3  2020-01-04    AC  ...                      6                      6\n",
              "4  2020-01-05    AC  ...                      7                      9\n",
              "\n",
              "[5 rows x 34 columns]"
            ]
          },
          "metadata": {},
          "execution_count": 18
        }
      ]
    },
    {
      "cell_type": "markdown",
      "metadata": {
        "id": "I5zcatt1uJFo"
      },
      "source": [
        "Qual total de obitos no ano de 2020 ?"
      ]
    },
    {
      "cell_type": "code",
      "metadata": {
        "colab": {
          "base_uri": "https://localhost:8080/"
        },
        "id": "6Nd3IbRQrmlH",
        "outputId": "9b55aa9b-7441-470d-a8fd-712b1d6a42ab"
      },
      "source": [
        "\n",
        "total_mortes_resgistrada2020 = obito_cartorio['new_deaths_total_2020'].sum()\n",
        "print(total_mortes_resgistrada2020)"
      ],
      "execution_count": 7,
      "outputs": [
        {
          "output_type": "stream",
          "name": "stdout",
          "text": [
            "1323261\n"
          ]
        }
      ]
    },
    {
      "cell_type": "markdown",
      "metadata": {
        "id": "lw-V9f72vrh-"
      },
      "source": [
        "Qual foi estado que maior teve mortes registradas em 2020 ?"
      ]
    },
    {
      "cell_type": "code",
      "metadata": {
        "colab": {
          "base_uri": "https://localhost:8080/",
          "height": 757
        },
        "id": "hgQR9pDiupIZ",
        "outputId": "1803e581-16a6-481c-b352-63ed5244f294"
      },
      "source": [
        "\n",
        "plt.figure(figsize=(27,6))\n",
        "plt.bar(obito_cartorio_covid['state'], obito_cartorio_covid['new_deaths_total_2020'])\n",
        "plt.xticks(rotation=90)\n",
        "plt.show()\n",
        "\n",
        "#usando  seaborn\n",
        "plt.figure(figsize=(27,6))\n",
        "sns.barplot(x=obito_cartorio_covid['state'], y =  obito_cartorio_covid['new_deaths_total_2020'])\n",
        "plt.xticks(rotation=90)\n",
        "plt.show()"
      ],
      "execution_count": 20,
      "outputs": [
        {
          "output_type": "display_data",
          "data": {
            "image/png": "[encoded data removed]",
            "text/plain": [
              "<Figure size 1944x432 with 1 Axes>"
            ]
          },
          "metadata": {
            "needs_background": "light"
          }
        },
        {
          "output_type": "display_data",
          "data": {
            "image/png": "[encoded data removed]",
            "text/plain": [
              "<Figure size 1944x432 with 1 Axes>"
            ]
          },
          "metadata": {
            "needs_background": "light"
          }
        }
      ]
    },
    {
      "cell_type": "markdown",
      "metadata": {
        "id": "KMYKSmM6wleJ"
      },
      "source": [
        "Com ajuda do grafico de barras podemos observar que o estado Brasileiro com maior mortes registradas no cartorio foio  estado de São Paulo no ano de 2020."
      ]
    },
    {
      "cell_type": "markdown",
      "metadata": {
        "id": "uQpX3HnF2ow3"
      },
      "source": [
        "Qual dia do ano de 2020 que teve maior regstro de mortes ?\n",
        "\n"
      ]
    },
    {
      "cell_type": "code",
      "metadata": {
        "colab": {
          "base_uri": "https://localhost:8080/",
          "height": 118
        },
        "id": "-8cdJ-OTzbi2",
        "outputId": "7a479d88-d0ee-4be0-92e2-5393c27cc825"
      },
      "source": [
        "diamaiorobtosregistrados = obito_cartorio_covid[ obito_cartorio_covid['new_deaths_total_2020'] == obito_cartorio_covid['new_deaths_total_2020'].max()]\n",
        "diamaiorobtosregistrados.head()"
      ],
      "execution_count": 17,
      "outputs": [
        {
          "output_type": "execute_result",
          "data": {
            "text/html": [
              "<div>\n",
              "<style scoped>\n",
              "    .dataframe tbody tr th:only-of-type {\n",
              "        vertical-align: middle;\n",
              "    }\n",
              "\n",
              "    .dataframe tbody tr th {\n",
              "        vertical-align: top;\n",
              "    }\n",
              "\n",
              "    .dataframe thead th {\n",
              "        text-align: right;\n",
              "    }\n",
              "</style>\n",
              "<table border=\"1\" class=\"dataframe\">\n",
              "  <thead>\n",
              "    <tr style=\"text-align: right;\">\n",
              "      <th></th>\n",
              "      <th>date</th>\n",
              "      <th>state</th>\n",
              "      <th>epidemiological_week_2019</th>\n",
              "      <th>epidemiological_week_2020</th>\n",
              "      <th>deaths_indeterminate_2019</th>\n",
              "      <th>deaths_respiratory_failure_2019</th>\n",
              "      <th>deaths_others_2019</th>\n",
              "      <th>deaths_pneumonia_2019</th>\n",
              "      <th>deaths_septicemia_2019</th>\n",
              "      <th>deaths_sars_2019</th>\n",
              "      <th>deaths_covid19</th>\n",
              "      <th>deaths_indeterminate_2020</th>\n",
              "      <th>deaths_respiratory_failure_2020</th>\n",
              "      <th>deaths_others_2020</th>\n",
              "      <th>deaths_pneumonia_2020</th>\n",
              "      <th>deaths_septicemia_2020</th>\n",
              "      <th>deaths_sars_2020</th>\n",
              "      <th>deaths_total_2019</th>\n",
              "      <th>deaths_total_2020</th>\n",
              "      <th>new_deaths_indeterminate_2019</th>\n",
              "      <th>new_deaths_respiratory_failure_2019</th>\n",
              "      <th>new_deaths_others_2019</th>\n",
              "      <th>new_deaths_pneumonia_2019</th>\n",
              "      <th>new_deaths_septicemia_2019</th>\n",
              "      <th>new_deaths_sars_2019</th>\n",
              "      <th>new_deaths_covid19</th>\n",
              "      <th>new_deaths_indeterminate_2020</th>\n",
              "      <th>new_deaths_respiratory_failure_2020</th>\n",
              "      <th>new_deaths_others_2020</th>\n",
              "      <th>new_deaths_pneumonia_2020</th>\n",
              "      <th>new_deaths_septicemia_2020</th>\n",
              "      <th>new_deaths_sars_2020</th>\n",
              "      <th>new_deaths_total_2019</th>\n",
              "      <th>new_deaths_total_2020</th>\n",
              "    </tr>\n",
              "  </thead>\n",
              "  <tbody>\n",
              "    <tr>\n",
              "      <th>9425</th>\n",
              "      <td>2020-10-02</td>\n",
              "      <td>SP</td>\n",
              "      <td>40</td>\n",
              "      <td>40</td>\n",
              "      <td>1054</td>\n",
              "      <td>19601</td>\n",
              "      <td>122138</td>\n",
              "      <td>56797</td>\n",
              "      <td>32996</td>\n",
              "      <td>229</td>\n",
              "      <td>39586</td>\n",
              "      <td>1378</td>\n",
              "      <td>21362</td>\n",
              "      <td>126022</td>\n",
              "      <td>41941</td>\n",
              "      <td>29934</td>\n",
              "      <td>2003</td>\n",
              "      <td>232815</td>\n",
              "      <td>262226</td>\n",
              "      <td>5.0</td>\n",
              "      <td>60.0</td>\n",
              "      <td>427.0</td>\n",
              "      <td>214.0</td>\n",
              "      <td>116.0</td>\n",
              "      <td>2.0</td>\n",
              "      <td>202.0</td>\n",
              "      <td>5.0</td>\n",
              "      <td>116.0</td>\n",
              "      <td>588.0</td>\n",
              "      <td>179.0</td>\n",
              "      <td>146.0</td>\n",
              "      <td>7.0</td>\n",
              "      <td>824</td>\n",
              "      <td>1243</td>\n",
              "    </tr>\n",
              "  </tbody>\n",
              "</table>\n",
              "</div>"
            ],
            "text/plain": [
              "            date state  ...  new_deaths_total_2019  new_deaths_total_2020\n",
              "9425  2020-10-02    SP  ...                    824                   1243\n",
              "\n",
              "[1 rows x 34 columns]"
            ]
          },
          "metadata": {},
          "execution_count": 17
        }
      ]
    },
    {
      "cell_type": "markdown",
      "metadata": {
        "id": "th0_pELm3EUr"
      },
      "source": [
        "Podemos ver que dia com mais resgitro de mortes  em 2020 foi  2020-10-02, onde foram registrados 1243, mortes nesse dia."
      ]
    },
    {
      "cell_type": "code",
      "metadata": {
        "id": "b816ykMVRDmw"
      },
      "source": [
        ""
      ],
      "execution_count": null,
      "outputs": []
    },
    {
      "cell_type": "markdown",
      "metadata": {
        "id": "wVLQdDpVRBJK"
      },
      "source": [
        "COmpare as os obitos registrados  por sars no ano de 2019 comparando com 2020 ? teve aumento na media de obitos registrados ?"
      ]
    },
    {
      "cell_type": "code",
      "metadata": {
        "colab": {
          "base_uri": "https://localhost:8080/",
          "height": 264
        },
        "id": "YenLJLjE3V7j",
        "outputId": "90523a2b-9569-4e06-d719-465eb9deafb8"
      },
      "source": [
        "\n",
        "\n",
        "plt.pie([obito_cartorio_covid['new_deaths_sars_2020'].mean() ,  obito_cartorio_covid['new_deaths_sars_2019'].mean()],\n",
        "        explode= [0, 0],\n",
        "        autopct='%1.2f%%' ,\n",
        "        labels=['OBITOS-COVID-19/2020',  'OBITOS-COVID-19/2019'])\n",
        "\n",
        "plt.title(\"Comparação da Media de mortes por covid-19 emtre 2019 a 2020\", weight=\"bold\")\n",
        "plt.show()"
      ],
      "execution_count": 30,
      "outputs": [
        {
          "output_type": "display_data",
          "data": {
            "image/png": "[encoded data removed]",
            "text/plain": [
              "<Figure size 432x288 with 1 Axes>"
            ]
          },
          "metadata": {}
        }
      ]
    },
    {
      "cell_type": "markdown",
      "metadata": {
        "id": "Uki9yB2_cedg"
      },
      "source": [
        "Podemos ver que media de mortes por covid subiu em 2020 se comparamos com media de 2019."
      ]
    },
    {
      "cell_type": "markdown",
      "metadata": {
        "id": "zHKvRNNUeXox"
      },
      "source": [
        "percuentual de mortos por covid-19 em 2020 com relacao com toal de mortos registrados ?"
      ]
    },
    {
      "cell_type": "code",
      "metadata": {
        "colab": {
          "base_uri": "https://localhost:8080/"
        },
        "id": "JL4LvcsKeQKF",
        "outputId": "707590c4-584e-4c1d-8f82-e57abd186ac8"
      },
      "source": [
        "sum_new_deaths_covid19 = obito_cartorio_covid['new_deaths_covid19'].sum();\n",
        "total_mortes_resgistrada2020 = obito_cartorio['new_deaths_total_2020'].sum()\n",
        "\n",
        "print((sum_new_deaths_covid19/total_mortes_resgistrada2020) * 100)"
      ],
      "execution_count": 35,
      "outputs": [
        {
          "output_type": "stream",
          "name": "stdout",
          "text": [
            "14.302696142333222\n"
          ]
        }
      ]
    }
  ]
}