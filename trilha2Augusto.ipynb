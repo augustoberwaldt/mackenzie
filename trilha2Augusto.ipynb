{
  "nbformat": 4,
  "nbformat_minor": 0,
  "metadata": {
    "colab": {
      "name": "trilha2Augusto.ipynb",
      "provenance": [],
      "authorship_tag": "ABX9TyNmNMN2jcVIwfSacZH8RtXA",
      "include_colab_link": true
    },
    "kernelspec": {
      "name": "python3",
      "display_name": "Python 3"
    },
    "language_info": {
      "name": "python"
    }
  },
  "cells": [
    {
      "cell_type": "markdown",
      "metadata": {
        "id": "view-in-github",
        "colab_type": "text"
      },
      "source": [
        "<a href=\"https://colab.research.google.com/github/augustoberwaldt/mackenzie/blob/main/trilha2Augusto.ipynb\" target=\"_parent\"><img src=\"https://colab.research.google.com/assets/colab-badge.svg\" alt=\"Open In Colab\"/></a>"
      ]
    },
    {
      "cell_type": "code",
      "metadata": {
        "id": "K6Au4z-lTelv"
      },
      "source": [
        "#importando as dependecias\n",
        "import pandas as pd\n",
        "import requests\n",
        "from bs4 import BeautifulSoup\n",
        "import matplotlib.pyplot as plt\n",
        "import seaborn as sns"
      ],
      "execution_count": 1,
      "outputs": []
    },
    {
      "cell_type": "markdown",
      "metadata": {
        "id": "xolrB0d9TiWp"
      },
      "source": [
        "**Metodo que busca os documentos html via protocolo http**"
      ]
    },
    {
      "cell_type": "code",
      "metadata": {
        "id": "i9DChQajTn5q"
      },
      "source": [
        "def scrape_stats(base_url, year_start, year_end):\n",
        "    years = range(year_start,year_end+1,1)\n",
        "\n",
        "    final_df = pd.DataFrame()\n",
        "\n",
        "    for year in years:\n",
        "        print('Extraindo ano {}'.format(year))\n",
        "        req_url = base_url.format(year)\n",
        "        req = requests.get(req_url)\n",
        "        soup = BeautifulSoup(req.content, 'html.parser')\n",
        "        table = soup.find('table', {'id':'totals_stats'})\n",
        "        df = pd.read_html(str(table))[0]\n",
        "        df['Year'] = year\n",
        "        final_df = final_df.append(df)\n",
        "    return final_df"
      ],
      "execution_count": 2,
      "outputs": []
    },
    {
      "cell_type": "markdown",
      "metadata": {
        "id": "P6Ap3g6TT1rJ"
      },
      "source": [
        "**Buscando dados** www.basketball-reference.com  NBA"
      ]
    },
    {
      "cell_type": "code",
      "metadata": {
        "colab": {
          "base_uri": "https://localhost:8080/"
        },
        "id": "Y_K3N3tPTtHg",
        "outputId": "e648836c-fd6d-4f20-c70c-b717a08bcd5e"
      },
      "source": [
        "url = 'https://www.basketball-reference.com/leagues/NBA_{}_totals.html'\n",
        "df = scrape_stats(url, 2013, 2020)"
      ],
      "execution_count": 3,
      "outputs": [
        {
          "output_type": "stream",
          "name": "stdout",
          "text": [
            "Extraindo ano 2013\n",
            "Extraindo ano 2014\n",
            "Extraindo ano 2015\n",
            "Extraindo ano 2016\n",
            "Extraindo ano 2017\n",
            "Extraindo ano 2018\n",
            "Extraindo ano 2019\n",
            "Extraindo ano 2020\n"
          ]
        }
      ]
    },
    {
      "cell_type": "code",
      "metadata": {
        "id": "xaZ0_wmlUDjP"
      },
      "source": [
        "#pequena limpeza dos dados\n",
        "drop_indexes = df[df['Rk'] == 'Rk'].index # Pega indexes onde a coluna 'Rk' possui valor 'Rk'\n",
        "df.drop(drop_indexes, inplace=True) # elimina os valores dos index passados da tabela\n"
      ],
      "execution_count": 4,
      "outputs": []
    },
    {
      "cell_type": "code",
      "metadata": {
        "id": "nRdQNKrvUGrN"
      },
      "source": [
        "# Outra coisa que tem que ser feita é converter os valores que\n",
        "# representam números na tabela, pois quando o Panda pega a tabela do HTML, todos os dados são lidos como objetos.\n",
        "numeric_cols = df.columns.drop(['Player','Pos','Tm'])\n",
        "df[numeric_cols] = df[numeric_cols].apply(pd.to_numeric)\n",
        "\n",
        "sorted_df = df.sort_values(by=['3P'], axis=0, ascending=False)\n"
      ],
      "execution_count": 5,
      "outputs": []
    },
    {
      "cell_type": "markdown",
      "metadata": {
        "id": "TzGpbmHvUJlR"
      },
      "source": [
        "**Plotando grafico de Barras**"
      ]
    },
    {
      "cell_type": "code",
      "metadata": {
        "colab": {
          "base_uri": "https://localhost:8080/",
          "height": 278
        },
        "id": "IQK89AGaUNec",
        "outputId": "ac085d97-3e75-4c58-ec46-3e22995f14b7"
      },
      "source": [
        "sns.barplot(x='Year', y='3PA', data= sorted_df[['Player', '3PA', 'Year']])\n",
        "plt.show()"
      ],
      "execution_count": 9,
      "outputs": [
        {
          "output_type": "display_data",
          "data": {
            "image/png": "[encoded data removed]",
            "text/plain": [
              "<Figure size 432x288 with 1 Axes>"
            ]
          },
          "metadata": {
            "needs_background": "light"
          }
        }
      ]
    },
    {
      "cell_type": "code",
      "metadata": {
        "colab": {
          "base_uri": "https://localhost:8080/",
          "height": 436
        },
        "id": "YyZC7w4LUX23",
        "outputId": "b80211c8-3e3f-454c-fb07-755d31af3b2e"
      },
      "source": [
        "plt.figure(figsize=(12,4))\n",
        "\n",
        "grouped_data =  df.groupby('Year', as_index= False).mean()\n",
        "grouped_data.reindex(columns=['Player', '3PA', 'Year'])\n",
        "print(grouped_data.head())\n",
        "\n",
        "sns.lineplot(data= grouped_data, x= 'Year', y = '3PA', label= \"3PA\")\n",
        "plt.title('Gráfico de média de tentativas de arremessos de 3 pontos por ano')\n",
        "plt.show()"
      ],
      "execution_count": 10,
      "outputs": [
        {
          "output_type": "stream",
          "name": "stdout",
          "text": [
            "   Year          Rk        Age  ...        TOV         PF         PTS\n",
            "0  2013  231.387528  26.639198  ...  62.592428  90.091314  437.581292\n",
            "1  2014  236.085062  26.497925  ...  62.022822  91.304979  445.603734\n",
            "2  2015  256.573643  26.503876  ...  59.521318  88.866279  428.705426\n",
            "3  2016  238.610132  26.830396  ...  63.861233  93.354626  467.638767\n",
            "4  2017  241.914530  26.536325  ...  58.523504  88.762821  458.083333\n",
            "\n",
            "[5 rows x 28 columns]\n"
          ]
        },
        {
          "output_type": "display_data",
          "data": {
            "image/png": "[encoded data removed]",
            "text/plain": [
              "<Figure size 864x288 with 1 Axes>"
            ]
          },
          "metadata": {
            "needs_background": "light"
          }
        }
      ]
    }
  ]
}