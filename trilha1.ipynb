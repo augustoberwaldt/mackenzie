{
  "nbformat": 4,
  "nbformat_minor": 0,
  "metadata": {
    "colab": {
      "name": "trilha1.ipynb",
      "provenance": [],
      "mount_file_id": "1tzM0zOIYLFt8ISauVhK68qaqSIJt5_CT",
      "authorship_tag": "ABX9TyPY0pc0ewBDVxwU3IzTVYcv",
      "include_colab_link": true
    },
    "kernelspec": {
      "name": "python3",
      "display_name": "Python 3"
    },
    "language_info": {
      "name": "python"
    }
  },
  "cells": [
    {
      "cell_type": "markdown",
      "metadata": {
        "id": "view-in-github",
        "colab_type": "text"
      },
      "source": [
        "<a href=\"https://colab.research.google.com/github/augustoberwaldt/mackenzie/blob/main/trilha1.ipynb\" target=\"_parent\"><img src=\"https://colab.research.google.com/assets/colab-badge.svg\" alt=\"Open In Colab\"/></a>"
      ]
    },
    {
      "cell_type": "code",
      "metadata": {
        "colab": {
          "base_uri": "https://localhost:8080/"
        },
        "id": "9Ek7kMNywRy8",
        "outputId": "f705a855-a143-44bb-9abf-80c1e2e0c00d"
      },
      "source": [
        "from google.colab import drive\n",
        "drive.mount('/content/drive')"
      ],
      "execution_count": 1,
      "outputs": [
        {
          "output_type": "stream",
          "text": [
            "Drive already mounted at /content/drive; to attempt to forcibly remount, call drive.mount(\"/content/drive\", force_remount=True).\n"
          ],
          "name": "stdout"
        }
      ]
    },
    {
      "cell_type": "code",
      "metadata": {
        "id": "KYFsewvfR7OA"
      },
      "source": [
        "\"\"\"\n",
        "A frequência de termos (quantidade que cada palavra aparece em um texto) tem grande importância em uma série de problemas envolvendo busca, classificação e sumarização automática de documentos. \n",
        "\n",
        "A ideia é que as palavras que as frequências das palavras que um texto contém pode dar uma boa pista do conteúdo do texto.  \n",
        "\n",
        "Hans Peter Luhn (1957): The weight of a term that occurs in a document is simply proportional to the term frequency. \n",
        "\n",
        "\n",
        "Entretanto, parece haver termos muito frequentes, como artigos, preposições etc. que parecem contribuir muito pouco para explicar o conteúdo de um texto. \n",
        "\n",
        "\n",
        "George Kingsley Zipf: Zipf's law states that given a large sample of words used, the frequency of any word is inversely proportional to its rank in the frequency table. So word number n has a frequency proportional to 1/n. \n",
        "\n",
        "\n",
        "Essa é uma lei geral que que ocorre em todo o texto de produção humana e, importante, em qualquer língua. Esse princípio pode ser então empregado desde para decifrar códigos e texto em línguas antigas, como em modernos sistemas de mineração de texto (search engines, bibliotecas digitais, classificação automática de conteúdo etc.). Você pode acessar:  \n",
        "\n",
        "\n",
        "https://demonstrations.wolfram.com/ZipfsLawAppliedToWordAndLetterFrequencies/ \n",
        "\n",
        "para uma demonstração disso. \n",
        "\n",
        "Tarefa \n",
        "\n",
        " \n",
        "\n",
        "Implemente um programa em Python (Python notebook) que \n",
        "constrói um dicionário de termos de um documento (mínimo 1000 palavras)\n",
        "com a frequência de cada termo permitindo confirmar a lei de Zipf para o documento selecionado.  \n",
        "\n",
        "Comente ao final os resultados obtidos. \n",
        "\n",
        " \n",
        "\n",
        "Peça ao professor modelos de código para sua implementação. \n",
        "\n",
        " \n",
        "\n",
        "Entrega:  \n",
        "\n",
        ".pdf de print do seu notebook Python. \n",
        "\n",
        "Compartilhe o endereço do seu notebook Python (Google Drive ou GitHub) 100% executável para abertura no Google Colab.  \n",
        "\n",
        "Não deixe de incluir o seu texto uma introdução justificando o texto escolhido e ao final suas conclusões. \n",
        "\n",
        "\"\"\"\n",
        "\n",
        "\n",
        "import random; from random import choices; \n",
        "import string; random.seed(1234)\n",
        "import numpy as np\n",
        "import matplotlib.pyplot as plt\n",
        "\n",
        "palavras = []\n",
        "#with open('/var/biblia_joao_4.txt', 'r') as file:\n",
        "with open('/content/drive/MyDrive/Public/biblia_joao_4.txt', 'r') as file:\n",
        "    data = file.read().replace('\\n', '')\n",
        "    data = data.replace(\"\\\"\", \"\")\n",
        "    palavras = data.split(\" \")\n",
        "\n",
        "\n",
        "\n",
        "\n",
        "  \n",
        "\n",
        "\n",
        "\n",
        "\n",
        "\n"
      ],
      "execution_count": 5,
      "outputs": []
    },
    {
      "cell_type": "markdown",
      "metadata": {
        "id": "qerNjSbpuNRW"
      },
      "source": [
        "# Nova seção"
      ]
    },
    {
      "cell_type": "markdown",
      "metadata": {
        "id": "c3uPI5E4N4zl"
      },
      "source": [
        "Texto Retirado de\n",
        "https://www.bibliaon.com/joao_4/\n",
        "\n",
        "Os fariseus ouviram falar que Jesus estava fazendo e batizando mais discípulos do que João,\n",
        "\n",
        "embora não fosse Jesus quem batizasse, mas os seus discípulos.\n",
        "\n",
        "Quando o Senhor ficou sabendo disso, saiu da Judeia e voltou uma vez mais à Galileia.\n",
        "\n",
        "Era-lhe necessário passar por Samaria.\n",
        "\n",
        "Assim, chegou a uma cidade de Samaria, chamada Sicar, perto das terras que Jacó dera a seu filho José.\n",
        "\n",
        "Havia ali o poço de Jacó. Jesus, cansado da viagem, sentou-se à beira do poço. Isto se deu por volta do meio-dia.\n",
        "\n",
        "Nisso veio uma mulher samaritana tirar água. Disse-lhe Jesus: \"Dê-me um pouco de água\".\n",
        "\n",
        "(Os seus discípulos tinham ido à cidade comprar comida.)\n",
        "\n",
        "A mulher samaritana lhe perguntou: \"Como o senhor, sendo judeu, pede a mim, uma samaritana, água para beber?\" (Pois os judeus não se dão bem com os samaritanos.)\n",
        "\n",
        "Jesus lhe respondeu: \"Se você conhecesse o dom de Deus e quem está pedindo água, você lhe teria pedido e dele receberia água viva\".\n",
        "\n",
        "Disse a mulher: \"O senhor não tem com que tirar água, e o poço é fundo. Onde pode conseguir essa água viva?\n",
        "\n",
        "Acaso o senhor é maior do que o nosso pai Jacó, que nos deu o poço, do qual ele mesmo bebeu, bem como seus filhos e seu gado?\"\n",
        "\n",
        "Jesus respondeu: \"Quem beber desta água terá sede outra vez,\n",
        "\n",
        "mas quem beber da água que eu lhe der nunca mais terá sede. Ao contrário, a água que eu lhe der se tornará nele uma fonte de água a jorrar para a vida eterna\".\n",
        "\n",
        "A mulher lhe disse: \"Senhor, dê-me dessa água, para que eu não tenha mais sede, nem precise voltar aqui para tirar água\".\n",
        "\n",
        "Ele lhe disse: \"Vá, chame o seu marido e volte\".\n",
        "\n",
        "\"Não tenho marido\", respondeu ela.\n",
        "Disse-lhe Jesus: \"Você falou corretamente, dizendo que não tem marido.\n",
        "\n",
        "O fato é que você já teve cinco; e o homem com quem agora vive não é seu marido. O que você acabou de dizer é verdade\".\n",
        "\n",
        "Disse a mulher: \"Senhor, vejo que é profeta.\n",
        "\n",
        "Nossos antepassados adoraram neste monte, mas vocês, judeus, dizem que Jerusalém é o lugar onde se deve adorar\".\n",
        "\n",
        "Jesus declarou: \"Creia em mim, mulher: está próxima a hora em que vocês não adorarão o Pai nem neste monte, nem em Jerusalém.\n",
        "\n",
        "Vocês, samaritanos, adoram o que não conhecem; nós adoramos o que conhecemos, pois a salvação vem dos judeus.\n",
        "\n",
        "No entanto, está chegando a hora, e de fato já chegou, em que os verdadeiros adoradores adorarão o Pai em espírito e em verdade. São estes os adoradores que o Pai procura.\n",
        "\n",
        "Deus é espírito, e é necessário que os seus adoradores o adorem em espírito e em verdade\".\n",
        "\n",
        "Disse a mulher: \"Eu sei que o Messias (chamado Cristo) está para vir. Quando ele vier, explicará tudo para nós\".\n",
        "\n",
        "Então Jesus declarou: \"Eu sou o Messias! Eu, que estou falando com você\".\n",
        "\n",
        "Naquele momento, os seus discípulos voltaram e ficaram surpresos ao encontrá-lo conversando com uma mulher. Mas ninguém perguntou: \"Que queres saber?\" ou: \"Por que estás conversando com ela?\"\n",
        "\n",
        "Então, deixando o seu cântaro, a mulher voltou à cidade e disse ao povo:\n",
        "\n",
        "\"Venham ver um homem que me disse tudo o que tenho feito. Será que ele não é o Cristo?\"\n",
        "\n",
        "Então saíram da cidade e foram para onde ele estava.\n",
        "\n",
        "Enquanto isso, os discípulos insistiam com ele: \"Mestre, come alguma coisa\".\n",
        "\n",
        "Mas ele lhes disse: \"Tenho algo para comer que vocês não conhecem\".\n",
        "\n",
        "Então os seus discípulos disseram uns aos outros: \"Será que alguém lhe trouxe comida?\"\n",
        "\n",
        "Disse Jesus: \"A minha comida é fazer a vontade daquele que me enviou e concluir a sua obra.\n",
        "\n",
        "Vocês não dizem: 'Daqui a quatro meses haverá a colheita'? Eu digo a vocês: Abram os olhos e vejam os campos! Eles estão maduros para a colheita.\n",
        "\n",
        "Aquele que colhe já recebe o seu salário e colhe fruto para a vida eterna, de forma que se alegram juntos o que semeia e o que colhe.\n",
        "\n",
        "Assim é verdadeiro o ditado: 'Um semeia, e outro colhe'.\n",
        "\n",
        "Eu os enviei para colherem o que vocês não cultivaram. Outros realizaram o trabalho árduo, e vocês vieram a usufruir do trabalho deles\".\n",
        "\n",
        "Muitos samaritanos daquela cidade creram nele por causa do seguinte testemunho dado pela mulher: \"Ele me disse tudo o que tenho feito\".\n",
        "\n",
        "Assim, quando se aproximaram dele, os samaritanos insistiram em que ficasse com eles, e ele ficou dois dias.\n",
        "\n",
        "E, por causa da sua palavra, muitos outros creram.\n",
        "\n",
        "E disseram à mulher: \"Agora cremos não somente por causa do que você disse, pois nós mesmos o ouvimos e sabemos que este é realmente o Salvador do mundo\".\n",
        "\n",
        "Jesus cura o filho de um oficial\n",
        "Depois daqueles dois dias, ele partiu para a Galileia.\n",
        "\n",
        "(O próprio Jesus tinha afirmado que nenhum profeta tem honra em sua própria terra.)\n",
        "\n",
        "Quando chegou à Galileia, os galileus deram-lhe boas-vindas. Eles tinham visto tudo o que ele fizera em Jerusalém, por ocasião da festa da Páscoa, pois também haviam estado lá.\n",
        "\n",
        "Mais uma vez ele visitou Caná da Galileia, onde tinha transformado água em vinho. E havia ali um oficial do rei, cujo filho estava doente em Cafarnaum.\n",
        "\n",
        "Quando ele ouviu falar que Jesus tinha chegado à Galileia, vindo da Judeia, procurou-o e suplicou-lhe que fosse curar seu filho, que estava à beira da morte.\n",
        "\n",
        "Disse-lhe Jesus: \"Se vocês não virem sinais e maravilhas, nunca crerão\".\n",
        "\n",
        "O oficial do rei disse: \"Senhor, vem, antes que o meu filho morra!\"\n",
        "\n",
        "Jesus respondeu: \"Pode ir. O seu filho continuará vivo\". O homem confiou na palavra de Jesus e partiu.\n",
        "\n",
        "Estando ele ainda a caminho, seus servos vieram ao seu encontro com notícias de que o menino estava vivo.\n",
        "\n",
        "Quando perguntou a que horas o seu filho tinha melhorado, eles lhe disseram: \"A febre o deixou ontem, à uma hora da tarde\".\n",
        "\n",
        "Então o pai constatou que aquela fora exatamente a hora em que Jesus lhe dissera: \"O seu filho continuará vivo\". Assim, creram ele e todos os de sua casa.\n",
        "\n",
        "Esse foi o segundo sinal milagroso que Jesus realizou depois que veio da Judeia para a Galileia.\n",
        "\n"
      ]
    },
    {
      "cell_type": "code",
      "metadata": {
        "colab": {
          "base_uri": "https://localhost:8080/"
        },
        "id": "Y9njxcIdN_GF",
        "outputId": "12305e16-f6d0-4a0c-cadb-3b16ea270c52"
      },
      "source": [
        "frequency = {}\n",
        "for value in palavras:\n",
        "  if value in frequency:\n",
        "    frequency[value] = frequency[value] + 1\n",
        "  else:\n",
        "    frequency[value] = 1\n",
        "\n",
        "print(frequency)\n"
      ],
      "execution_count": null,
      "outputs": [
        {
          "output_type": "stream",
          "text": [
            "{'Os': 1, 'fariseus': 1, 'ouviram': 1, 'falar': 2, 'que': 50, 'Jesus': 8, 'estava': 4, 'fazendo': 1, 'e': 27, 'batizando': 1, 'mais': 4, 'discípulos': 5, 'do': 11, 'João,embora': 1, 'não': 14, 'fosse': 2, 'quem': 4, 'batizasse,': 1, 'mas': 2, 'os': 15, 'seus': 7, 'discípulos.Quando': 1, 'o': 39, 'Senhor': 1, 'ficou': 2, 'sabendo': 1, 'disso,': 1, 'saiu': 1, 'da': 12, 'Judeia': 2, 'voltou': 2, 'uma': 8, 'vez': 2, 'à': 9, 'Galileia.Era-lhe': 1, 'necessário': 2, 'passar': 1, 'por': 6, 'Samaria.Assim,': 1, 'chegou': 2, 'a': 26, 'cidade': 5, 'de': 12, 'Samaria,': 1, 'chamada': 1, 'Sicar,': 1, 'perto': 1, 'das': 1, 'terras': 1, 'Jacó': 1, 'dera': 1, 'seu': 11, 'filho': 7, 'José.Havia': 1, 'ali': 2, 'poço': 2, 'Jacó.': 1, 'Jesus,': 1, 'cansado': 1, 'viagem,': 1, 'sentou-se': 1, 'beira': 2, 'poço.': 1, 'Isto': 1, 'se': 6, 'deu': 2, 'volta': 1, 'meio-dia.Nisso': 1, 'veio': 2, 'mulher': 4, 'samaritana': 2, 'tirar': 3, 'água.': 1, 'Disse-lhe': 1, 'Jesus:': 4, 'Dê-me': 1, 'um': 4, 'pouco': 1, 'água.(Os': 1, 'tinham': 2, 'ido': 1, 'comprar': 1, 'comida.)A': 1, 'lhe': 10, 'perguntou:': 2, 'Como': 1, 'senhor,': 1, 'sendo': 1, 'judeu,': 1, 'pede': 1, 'mim,': 2, 'samaritana,': 1, 'água': 8, 'para': 13, 'beber?': 1, '(Pois': 1, 'judeus': 1, 'dão': 1, 'bem': 2, 'com': 9, 'samaritanos.)Jesus': 1, 'respondeu:': 3, 'Se': 2, 'você': 5, 'conhecesse': 1, 'dom': 1, 'Deus': 1, 'está': 4, 'pedindo': 1, 'água,': 3, 'teria': 1, 'pedido': 1, 'dele': 1, 'receberia': 1, 'viva.Disse': 1, 'mulher:': 6, 'O': 5, 'senhor': 2, 'tem': 3, 'é': 13, 'fundo.': 1, 'Onde': 1, 'pode': 1, 'conseguir': 1, 'essa': 1, 'viva?Acaso': 1, 'maior': 1, 'nosso': 1, 'pai': 2, 'Jacó,': 1, 'nos': 1, 'poço,': 1, 'qual': 1, 'ele': 12, 'mesmo': 1, 'bebeu,': 1, 'como': 1, 'filhos': 1, 'gado?Jesus': 1, 'Quem': 1, 'beber': 2, 'desta': 1, 'terá': 2, 'sede': 1, 'outra': 1, 'vez,mas': 1, 'eu': 3, 'der': 2, 'nunca': 2, 'sede.': 1, 'Ao': 1, 'contrário,': 1, 'tornará': 1, 'nele': 2, 'fonte': 1, 'jorrar': 1, 'vida': 2, 'eterna.A': 1, 'disse:': 4, 'Senhor,': 3, 'dê-me': 1, 'dessa': 1, 'tenha': 1, 'sede,': 1, 'nem': 3, 'precise': 1, 'voltar': 1, 'aqui': 1, 'água.Ele': 1, 'Vá,': 1, 'chame': 1, 'marido': 1, 'volte.Não': 1, 'tenho': 3, 'marido,': 1, 'respondeu': 1, 'ela.Disse-lhe': 1, 'Você': 1, 'falou': 1, 'corretamente,': 1, 'dizendo': 1, 'marido.O': 1, 'fato': 2, 'já': 3, 'teve': 1, 'cinco;': 1, 'homem': 3, 'agora': 1, 'vive': 1, 'marido.': 1, 'acabou': 1, 'dizer': 1, 'verdade.Disse': 2, 'vejo': 1, 'profeta.Nossos': 1, 'antepassados': 1, 'adoraram': 1, 'neste': 2, 'monte,': 2, 'vocês,': 1, 'judeus,': 1, 'dizem': 1, 'Jerusalém': 1, 'lugar': 1, 'onde': 3, 'deve': 1, 'adorar.Jesus': 1, 'declarou:': 2, 'Creia': 1, 'em': 14, 'próxima': 1, 'hora': 3, 'vocês': 5, 'adorarão': 2, 'Pai': 3, 'Jerusalém.Vocês,': 1, 'samaritanos,': 1, 'adoram': 1, 'conhecem;': 1, 'nós': 2, 'adoramos': 1, 'conhecemos,': 1, 'pois': 3, 'salvação': 1, 'vem': 1, 'dos': 1, 'judeus.No': 1, 'entanto,': 1, 'chegando': 1, 'hora,': 1, 'chegou,': 1, 'verdadeiros': 1, 'adoradores': 3, 'espírito': 2, 'verdade.': 1, 'São': 1, 'estes': 1, 'procura.Deus': 1, 'espírito,': 1, 'adorem': 1, 'Eu': 3, 'sei': 1, 'Messias': 1, '(chamado': 1, 'Cristo)': 1, 'vir.': 1, 'Quando': 1, 'vier,': 1, 'explicará': 1, 'tudo': 4, 'nós.Então': 1, 'sou': 1, 'Messias!': 1, 'Eu,': 1, 'estou': 1, 'falando': 1, 'você.Naquele': 1, 'momento,': 1, 'voltaram': 1, 'ficaram': 1, 'surpresos': 1, 'ao': 3, 'encontrá-lo': 1, 'conversando': 2, 'mulher.': 1, 'Mas': 1, 'ninguém': 1, 'Que': 1, 'queres': 1, 'saber?': 1, 'ou:': 1, 'Por': 1, 'estás': 1, 'ela?Então,': 1, 'deixando': 1, 'cântaro,': 1, 'disse': 3, 'povo:Venham': 1, 'ver': 1, 'me': 3, 'feito.': 1, 'Será': 2, 'Cristo?Então': 1, 'saíram': 1, 'foram': 1, 'estava.Enquanto': 1, 'isso,': 1, 'insistiam': 1, 'ele:': 1, 'Mestre,': 1, 'come': 1, 'alguma': 1, 'coisa.Mas': 1, 'lhes': 1, 'Tenho': 1, 'algo': 1, 'comer': 1, 'conhecem.Então': 1, 'disseram': 2, 'uns': 1, 'aos': 1, 'outros:': 1, 'alguém': 1, 'trouxe': 1, 'comida?Disse': 1, 'A': 2, 'minha': 1, 'comida': 1, 'fazer': 1, 'vontade': 1, 'daquele': 1, 'enviou': 1, 'concluir': 1, 'sua': 4, 'obra.Vocês': 1, 'dizem:': 1, \"'Daqui\": 1, 'quatro': 1, 'meses': 1, 'haverá': 1, \"colheita'?\": 1, 'digo': 1, 'vocês:': 1, 'Abram': 1, 'olhos': 1, 'vejam': 1, 'campos!': 1, 'Eles': 2, 'estão': 1, 'maduros': 1, 'colheita.Aquele': 1, 'colhe': 2, 'recebe': 1, 'salário': 1, 'fruto': 1, 'eterna,': 1, 'forma': 1, 'alegram': 1, 'juntos': 1, 'semeia': 1, 'colhe.Assim': 1, 'verdadeiro': 1, 'ditado:': 1, \"'Um\": 1, 'semeia,': 1, 'outro': 1, \"colhe'.Eu\": 1, 'enviei': 1, 'colherem': 1, 'cultivaram.': 1, 'Outros': 1, 'realizaram': 1, 'trabalho': 2, 'árduo,': 1, 'vieram': 2, 'usufruir': 1, 'deles.Muitos': 1, 'samaritanos': 2, 'daquela': 1, 'creram': 2, 'causa': 3, 'seguinte': 1, 'testemunho': 1, 'dado': 1, 'pela': 1, 'Ele': 1, 'feito.Assim,': 1, 'quando': 1, 'aproximaram': 1, 'dele,': 1, 'insistiram': 1, 'ficasse': 1, 'eles,': 1, 'dois': 2, 'dias.E,': 1, 'palavra,': 1, 'muitos': 1, 'outros': 1, 'creram.E': 1, 'Agora': 1, 'cremos': 1, 'somente': 1, 'disse,': 1, 'mesmos': 1, 'ouvimos': 1, 'sabemos': 1, 'este': 1, 'realmente': 1, 'Salvador': 1, 'mundo.Jesus': 1, 'cura': 1, 'oficialDepois': 1, 'daqueles': 1, 'dias,': 1, 'partiu': 1, 'Galileia.(O': 1, 'próprio': 1, 'tinha': 4, 'afirmado': 1, 'nenhum': 1, 'profeta': 1, 'honra': 1, 'própria': 1, 'terra.)Quando': 1, 'Galileia,': 3, 'galileus': 1, 'deram-lhe': 1, 'boas-vindas.': 1, 'visto': 1, 'fizera': 1, 'Jerusalém,': 1, 'ocasião': 1, 'festa': 1, 'Páscoa,': 1, 'também': 1, 'haviam': 1, 'estado': 1, 'lá.Mais': 1, 'visitou': 1, 'Caná': 1, 'transformado': 1, 'vinho.': 1, 'E': 1, 'havia': 1, 'oficial': 2, 'rei,': 1, 'cujo': 1, 'doente': 1, 'Cafarnaum.Quando': 1, 'ouviu': 1, 'chegado': 1, 'vindo': 1, 'Judeia,': 1, 'procurou-o': 1, 'suplicou-lhe': 1, 'curar': 1, 'filho,': 1, 'morte.Disse-lhe': 1, 'virem': 1, 'sinais': 1, 'maravilhas,': 1, 'crerão.O': 1, 'rei': 1, 'vem,': 1, 'antes': 1, 'meu': 1, 'morra!Jesus': 1, 'Pode': 1, 'ir.': 1, 'continuará': 2, 'vivo.': 2, 'confiou': 1, 'na': 1, 'palavra': 1, 'partiu.Estando': 1, 'ainda': 1, 'caminho,': 1, 'servos': 1, 'encontro': 1, 'notícias': 1, 'menino': 1, 'vivo.Quando': 1, 'perguntou': 1, 'horas': 1, 'melhorado,': 1, 'eles': 1, 'disseram:': 1, 'febre': 1, 'deixou': 1, 'ontem,': 1, 'tarde.Então': 1, 'constatou': 1, 'aquela': 1, 'fora': 1, 'exatamente': 1, 'dissera:': 1, 'Assim,': 1, 'todos': 1, 'casa.Esse': 1, 'foi': 1, 'segundo': 1, 'sinal': 1, 'milagroso': 1, 'realizou': 1, 'depois': 1, 'Galileia.': 1}\n"
          ],
          "name": "stdout"
        }
      ]
    },
    {
      "cell_type": "markdown",
      "metadata": {
        "id": "nGqfNQ1DsKse"
      },
      "source": [
        "Podemos observar no dicionario algumas palavras/letras com frequencia no trecho retirado da biblia, a palavra  'que' , tambem letra 'e' 27 vezes, palavra 'Jesus' 8 vezes.\n",
        "\n",
        "\n",
        "O Texto foi escolhido por ser texto da bibiblia, onde podemos ver mesmo texto escrito muito tempo atraz, temos frequencia nas palavras/letras."
      ]
    },
    {
      "cell_type": "code",
      "metadata": {
        "colab": {
          "base_uri": "https://localhost:8080/",
          "height": 299
        },
        "id": "SkczaIKNuD3d",
        "outputId": "672122da-096c-40a7-dcc3-38bd3025082e"
      },
      "source": [
        "def rank_freq(hist):\n",
        "    \"\"\"Returns a list of (rank, freq) tuples.\n",
        "    hist: map from word to frequency\n",
        "    returns: list of (rank, freq) tuples\n",
        "    \"\"\"\n",
        "    # sort the list of frequencies in decreasing order\n",
        "    freqs = list(hist.values())\n",
        "    freqs.sort(reverse=True)\n",
        "\n",
        "    # enumerate the ranks and frequencies \n",
        "    rf = [(r+1, f) for r, f in enumerate(freqs)]\n",
        "    return rf\n",
        "\n",
        "def plot_ranks(hist, scale='log'):\n",
        "    \"\"\"Plots frequency vs. rank.\n",
        "    hist: map from word to frequency\n",
        "    scale: string 'linear' or 'log'\n",
        "    \"\"\"\n",
        "    t = rank_freq(hist)\n",
        "    rs, fs = zip(*t)\n",
        "\n",
        "    plt.clf()\n",
        "    plt.xscale(scale)\n",
        "    plt.yscale(scale)\n",
        "    plt.title('Zipf plot')\n",
        "    plt.xlabel('rank')\n",
        "    plt.ylabel('frequency')\n",
        "    plt.plot(rs, fs, 'r-', linewidth=3)\n",
        "    plt.show()\n",
        "\n",
        "\n",
        "plot_ranks(frequency)"
      ],
      "execution_count": null,
      "outputs": [
        {
          "output_type": "display_data",
          "data": {
            "image/png": "[encoded data removed]",
            "text/plain": [
              "<Figure size 432x288 with 1 Axes>"
            ]
          },
          "metadata": {
            "needs_background": "light"
          }
        }
      ]
    }
  ]
}